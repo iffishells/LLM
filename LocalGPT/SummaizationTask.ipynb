{
 "cells": [
  {
   "cell_type": "markdown",
   "id": "9b6469c5-e368-4dea-95ad-32e4731b87af",
   "metadata": {},
   "source": [
    "# Summarization Project MVP"
   ]
  },
  {
   "cell_type": "code",
   "execution_count": 5,
   "id": "b516a0cf-a453-4207-ba96-a5e046e033f5",
   "metadata": {},
   "outputs": [],
   "source": [
    "from Sumarization_MVP.summarize import summarizer\n",
    "import os"
   ]
  },
  {
   "cell_type": "code",
   "execution_count": 20,
   "id": "959fa57c-639b-46dc-b547-6e95d0fa6ed4",
   "metadata": {},
   "outputs": [
    {
     "name": "stdout",
     "output_type": "stream",
     "text": [
      "The file ../datasets/labelled_newscatcher_dataset.csv exists.\n"
     ]
    },
    {
     "name": "stderr",
     "output_type": "stream",
     "text": [
      "Your max_length is set to 40, but your input_length is only 18. Since this is a summarization task, where outputs shorter than the input are typically wanted, you might consider decreasing max_length manually, e.g. summarizer('...', max_length=9)\n"
     ]
    },
    {
     "name": "stdout",
     "output_type": "stream",
     "text": [
      "Input Text : SpaceX, NASA Demo-2 Rocket Launch Set for Saturday: How to Watch\n",
      "Summarized Text : [{'summary_text': 'SpaceX, NASA Demo-2 Rocket Launch Set for Saturday: How to Watch . how to watch the video .'}]\n"
     ]
    }
   ],
   "source": [
    "dataset_path = f'../datasets/labelled_newscatcher_dataset.csv'\n",
    "if os.path.exists(dataset_path):\n",
    "    print(f\"The file {dataset_path} exists.\")\n",
    "else:\n",
    "    print(f\"The file {dataset_path} does not exist.\")\n",
    "\n",
    "ds = DatasetDict.from_csv({'train': dataset_path})\n",
    "sample=ds['train'].select(range(20))\n",
    "\n",
    "input = sample['title'][6]\n",
    "\n",
    "output = summarizer(input)\n",
    "print(f'Input Text : {input}')\n",
    "print(f\"Summarized Text : {output}\")"
   ]
  },
  {
   "cell_type": "code",
   "execution_count": 13,
   "id": "f2b85b13-9360-45d5-b4dd-2cd796a9727e",
   "metadata": {},
   "outputs": [],
   "source": []
  },
  {
   "cell_type": "code",
   "execution_count": 14,
   "id": "556680c3-de00-4a15-807f-0a0255d35f5a",
   "metadata": {},
   "outputs": [
    {
     "data": {
      "text/plain": [
       "[\"A closer look at water-splitting's solar fuel potential\",\n",
       " 'An irresistible scent makes locusts swarm, study finds',\n",
       " 'Artificial intelligence warning: AI will know us better than we know ourselves',\n",
       " 'Glaciers Could Have Sculpted Mars Valleys: Study',\n",
       " 'Perseid meteor shower 2020: What time and how to see the huge bright FIREBALLS over UK again tonight',\n",
       " 'NASA Releases In-Depth Map of Beirut Explosion Damage',\n",
       " 'SpaceX, NASA Demo-2 Rocket Launch Set for Saturday: How to Watch',\n",
       " 'Orbital space tourism set for rebirth in 2021',\n",
       " \"Greenland's melting ice sheet has 'passed the point of no return'\",\n",
       " 'NASA invites engineering students to help harvest water on Mars, Moon',\n",
       " 'Astronomers Detect Electromagnetic Signal Caused by Unequal Neutron-Star Collision',\n",
       " \"NASA Finds Ammonia-Linked 'Mushballs' and 'Shallow Lightning' on Jupiter\",\n",
       " 'Russia targets returning to Venus, build reusable rocket',\n",
       " 'Martian Night Sky Pulses in Ultraviolet Light',\n",
       " 'Energy-Efficient Tuning of Spintronic Neurons to Imitate the Non-linear Oscillatory Neural Networks of the Human Brain',\n",
       " \"Scientists may have discovered the Achilles' heel of the coronavirus\",\n",
       " 'Tradeoff between the eyes and nose helps flies find their niche',\n",
       " \"2020's final Mars mission poised for blastoff from Florida\",\n",
       " 'In rare find, fossil shows how Cretaceous-era ‘hell ant’ ate its prey with weird jaws',\n",
       " 'Nasa SpaceX crew return: Dragon capsule splashes down']"
      ]
     },
     "execution_count": 14,
     "metadata": {},
     "output_type": "execute_result"
    }
   ],
   "source": [
    "sample['title']"
   ]
  },
  {
   "cell_type": "code",
   "execution_count": 45,
   "id": "d6e4d3d6-acfd-4aaf-95c4-cf77bd470a6f",
   "metadata": {},
   "outputs": [],
   "source": [
    "df = pd.read_csv(dataset_path)\n"
   ]
  },
  {
   "cell_type": "code",
   "execution_count": 46,
   "id": "d44e8b09-fa56-4e27-b4c0-79d7d8c51fc7",
   "metadata": {},
   "outputs": [
    {
     "name": "stderr",
     "output_type": "stream",
     "text": [
      "Generating train split: 108774 examples [00:00, 276506.29 examples/s]\n"
     ]
    }
   ],
   "source": []
  },
  {
   "cell_type": "code",
   "execution_count": 47,
   "id": "83376b50-a26d-4e07-90ac-3ddf3ee3fd38",
   "metadata": {},
   "outputs": [
    {
     "data": {
      "text/plain": [
       "DatasetDict({\n",
       "    train: Dataset({\n",
       "        features: ['topic', 'link', 'domain', 'published_date', 'title', 'lang'],\n",
       "        num_rows: 108774\n",
       "    })\n",
       "})"
      ]
     },
     "execution_count": 47,
     "metadata": {},
     "output_type": "execute_result"
    }
   ],
   "source": [
    "ds"
   ]
  },
  {
   "cell_type": "code",
   "execution_count": 52,
   "id": "858c3f8a-28de-4734-99cb-19d95573f75d",
   "metadata": {},
   "outputs": [
    {
     "data": {
      "text/plain": [
       "Dataset({\n",
       "    features: ['topic', 'link', 'domain', 'published_date', 'title', 'lang'],\n",
       "    num_rows: 10\n",
       "})"
      ]
     },
     "execution_count": 52,
     "metadata": {},
     "output_type": "execute_result"
    }
   ],
   "source": [
    "df_sample = ds['train'].select(range(10))\n",
    "df_sample"
   ]
  },
  {
   "cell_type": "markdown",
   "id": "bf6f818b-f9d1-434d-a5b0-37308040f15d",
   "metadata": {},
   "source": [
    "## Loading of 'Summarization' Pre-trained Model"
   ]
  },
  {
   "cell_type": "code",
   "execution_count": 73,
   "id": "2103279f-b575-433b-ba69-502d36dae5dd",
   "metadata": {},
   "outputs": [
    {
     "name": "stderr",
     "output_type": "stream",
     "text": [
      "Your max_length is set to 40, but your input_length is only 17. Since this is a summarization task, where outputs shorter than the input are typically wanted, you might consider decreasing max_length manually, e.g. summarizer('...', max_length=8)\n"
     ]
    },
    {
     "data": {
      "text/plain": [
       "[{'summary_text': \"a closer look at water-splitting's solar fuel potential . a look at the potential for solar fuel .\"}]"
      ]
     },
     "execution_count": 73,
     "metadata": {},
     "output_type": "execute_result"
    }
   ],
   "source": [
    "summarize = pipeline(\n",
    "    task='summarization',\n",
    "    model = 't5-small',\n",
    "    min_length=20,\n",
    "    max_length=40,\n",
    "    truncation=True\n",
    ")\n",
    "\n",
    "\n",
    "summarize(df_sample['title'][0])"
   ]
  },
  {
   "cell_type": "code",
   "execution_count": 77,
   "id": "97793566-515b-439f-8f25-c3a65781d795",
   "metadata": {},
   "outputs": [
    {
     "data": {
      "text/plain": [
       "['A',\n",
       " 'closer',\n",
       " 'look',\n",
       " 'at',\n",
       " \"water-splitting's\",\n",
       " 'solar',\n",
       " 'fuel',\n",
       " 'potential']"
      ]
     },
     "execution_count": 77,
     "metadata": {},
     "output_type": "execute_result"
    }
   ],
   "source": []
  },
  {
   "cell_type": "code",
   "execution_count": null,
   "id": "13d81fcb-0c49-4887-8530-3ae5f1f27fdc",
   "metadata": {},
   "outputs": [],
   "source": []
  }
 ],
 "metadata": {
  "kernelspec": {
   "display_name": "Python 3 (ipykernel)",
   "language": "python",
   "name": "python3"
  },
  "language_info": {
   "codemirror_mode": {
    "name": "ipython",
    "version": 3
   },
   "file_extension": ".py",
   "mimetype": "text/x-python",
   "name": "python",
   "nbconvert_exporter": "python",
   "pygments_lexer": "ipython3",
   "version": "3.10.12"
  }
 },
 "nbformat": 4,
 "nbformat_minor": 5
}
