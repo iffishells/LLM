{
 "cells": [
  {
   "cell_type": "code",
   "execution_count": 4,
   "id": "initial_id",
   "metadata": {
    "collapsed": true,
    "ExecuteTime": {
     "end_time": "2024-01-11T06:37:17.115336897Z",
     "start_time": "2024-01-11T06:37:17.071836614Z"
    }
   },
   "outputs": [],
   "source": [
    "import pandas as pd\n",
    "import matplotlib.pyplot as plt\n"
   ]
  },
  {
   "cell_type": "code",
   "execution_count": 6,
   "outputs": [
    {
     "data": {
      "text/plain": "                topic                                               link  \\\n0             SCIENCE  https://www.eurekalert.org/pub_releases/2020-0...   \n1             SCIENCE  https://www.pulse.ng/news/world/an-irresistibl...   \n2             SCIENCE  https://www.express.co.uk/news/science/1322607...   \n3             SCIENCE  https://www.ndtv.com/world-news/glaciers-could...   \n4             SCIENCE  https://www.thesun.ie/tech/5742187/perseid-met...   \n...               ...                                                ...   \n108769         NATION  https://www.vanguardngr.com/2020/08/pdp-govern...   \n108770       BUSINESS  https://www.patentlyapple.com/patently-apple/2...   \n108771         HEALTH  https://www.belfastlive.co.uk/news/health/coro...   \n108772  ENTERTAINMENT  https://www.thenews.com.pk/latest/696364-paul-...   \n108773         SPORTS  https://www.balls.ie/football/shane-duffy-brig...   \n\n                   domain       published_date  \\\n0          eurekalert.org  2020-08-06 13:59:45   \n1                pulse.ng  2020-08-12 15:14:19   \n2           express.co.uk  2020-08-13 21:01:00   \n3                ndtv.com  2020-08-03 22:18:26   \n4               thesun.ie  2020-08-12 19:54:36   \n...                   ...                  ...   \n108769    vanguardngr.com  2020-08-08 02:40:00   \n108770  patentlyapple.com  2020-08-08 01:27:12   \n108771  belfastlive.co.uk  2020-08-12 17:01:00   \n108772     thenews.com.pk  2020-08-05 04:59:00   \n108773           balls.ie  2020-08-09 10:25:26   \n\n                                                    title lang  \n0       A closer look at water-splitting's solar fuel ...   en  \n1       An irresistible scent makes locusts swarm, stu...   en  \n2       Artificial intelligence warning: AI will know ...   en  \n3        Glaciers Could Have Sculpted Mars Valleys: Study   en  \n4       Perseid meteor shower 2020: What time and how ...   en  \n...                                                   ...  ...  \n108769  PDP governors’ forum urges security agencies t...   en  \n108770  In Q2-20, Apple Dominated the Premium Smartpho...   en  \n108771  Coronavirus Northern Ireland: Full breakdown s...   en  \n108772  Paul McCartney details post-Beatles distress a...   en  \n108773  Report: Talks Underway To Keep Shane Duffy In ...   en  \n\n[108774 rows x 6 columns]",
      "text/html": "<div>\n<style scoped>\n    .dataframe tbody tr th:only-of-type {\n        vertical-align: middle;\n    }\n\n    .dataframe tbody tr th {\n        vertical-align: top;\n    }\n\n    .dataframe thead th {\n        text-align: right;\n    }\n</style>\n<table border=\"1\" class=\"dataframe\">\n  <thead>\n    <tr style=\"text-align: right;\">\n      <th></th>\n      <th>topic</th>\n      <th>link</th>\n      <th>domain</th>\n      <th>published_date</th>\n      <th>title</th>\n      <th>lang</th>\n    </tr>\n  </thead>\n  <tbody>\n    <tr>\n      <th>0</th>\n      <td>SCIENCE</td>\n      <td>https://www.eurekalert.org/pub_releases/2020-0...</td>\n      <td>eurekalert.org</td>\n      <td>2020-08-06 13:59:45</td>\n      <td>A closer look at water-splitting's solar fuel ...</td>\n      <td>en</td>\n    </tr>\n    <tr>\n      <th>1</th>\n      <td>SCIENCE</td>\n      <td>https://www.pulse.ng/news/world/an-irresistibl...</td>\n      <td>pulse.ng</td>\n      <td>2020-08-12 15:14:19</td>\n      <td>An irresistible scent makes locusts swarm, stu...</td>\n      <td>en</td>\n    </tr>\n    <tr>\n      <th>2</th>\n      <td>SCIENCE</td>\n      <td>https://www.express.co.uk/news/science/1322607...</td>\n      <td>express.co.uk</td>\n      <td>2020-08-13 21:01:00</td>\n      <td>Artificial intelligence warning: AI will know ...</td>\n      <td>en</td>\n    </tr>\n    <tr>\n      <th>3</th>\n      <td>SCIENCE</td>\n      <td>https://www.ndtv.com/world-news/glaciers-could...</td>\n      <td>ndtv.com</td>\n      <td>2020-08-03 22:18:26</td>\n      <td>Glaciers Could Have Sculpted Mars Valleys: Study</td>\n      <td>en</td>\n    </tr>\n    <tr>\n      <th>4</th>\n      <td>SCIENCE</td>\n      <td>https://www.thesun.ie/tech/5742187/perseid-met...</td>\n      <td>thesun.ie</td>\n      <td>2020-08-12 19:54:36</td>\n      <td>Perseid meteor shower 2020: What time and how ...</td>\n      <td>en</td>\n    </tr>\n    <tr>\n      <th>...</th>\n      <td>...</td>\n      <td>...</td>\n      <td>...</td>\n      <td>...</td>\n      <td>...</td>\n      <td>...</td>\n    </tr>\n    <tr>\n      <th>108769</th>\n      <td>NATION</td>\n      <td>https://www.vanguardngr.com/2020/08/pdp-govern...</td>\n      <td>vanguardngr.com</td>\n      <td>2020-08-08 02:40:00</td>\n      <td>PDP governors’ forum urges security agencies t...</td>\n      <td>en</td>\n    </tr>\n    <tr>\n      <th>108770</th>\n      <td>BUSINESS</td>\n      <td>https://www.patentlyapple.com/patently-apple/2...</td>\n      <td>patentlyapple.com</td>\n      <td>2020-08-08 01:27:12</td>\n      <td>In Q2-20, Apple Dominated the Premium Smartpho...</td>\n      <td>en</td>\n    </tr>\n    <tr>\n      <th>108771</th>\n      <td>HEALTH</td>\n      <td>https://www.belfastlive.co.uk/news/health/coro...</td>\n      <td>belfastlive.co.uk</td>\n      <td>2020-08-12 17:01:00</td>\n      <td>Coronavirus Northern Ireland: Full breakdown s...</td>\n      <td>en</td>\n    </tr>\n    <tr>\n      <th>108772</th>\n      <td>ENTERTAINMENT</td>\n      <td>https://www.thenews.com.pk/latest/696364-paul-...</td>\n      <td>thenews.com.pk</td>\n      <td>2020-08-05 04:59:00</td>\n      <td>Paul McCartney details post-Beatles distress a...</td>\n      <td>en</td>\n    </tr>\n    <tr>\n      <th>108773</th>\n      <td>SPORTS</td>\n      <td>https://www.balls.ie/football/shane-duffy-brig...</td>\n      <td>balls.ie</td>\n      <td>2020-08-09 10:25:26</td>\n      <td>Report: Talks Underway To Keep Shane Duffy In ...</td>\n      <td>en</td>\n    </tr>\n  </tbody>\n</table>\n<p>108774 rows × 6 columns</p>\n</div>"
     },
     "execution_count": 6,
     "metadata": {},
     "output_type": "execute_result"
    }
   ],
   "source": [
    "# Specify the location of the csv file\n",
    "csv_location = \"../datasets/labelled_newscatcher_dataset.csv\"\n",
    "# Read the dataset\n",
    "newscatcher = pd.read_csv(csv_location, sep=\";\")\n",
    "# Display the datset\n",
    "newscatcher"
   ],
   "metadata": {
    "collapsed": false,
    "ExecuteTime": {
     "end_time": "2024-01-11T06:37:36.768058596Z",
     "start_time": "2024-01-11T06:37:35.829271807Z"
    }
   },
   "id": "b3aa90d2295bee09"
  },
  {
   "cell_type": "code",
   "execution_count": 7,
   "outputs": [],
   "source": [
    "\n",
    "# Count how many articles exist per topic\n",
    "newscatcher_counts_by_topic = (\n",
    "    newscatcher\n",
    "    .loc[:,[\"topic\",\"title\"]]\n",
    "    .groupby(\"topic\")\n",
    "    .agg(\"count\")\n",
    "    .reset_index(drop=False)\n",
    ")"
   ],
   "metadata": {
    "collapsed": false,
    "ExecuteTime": {
     "end_time": "2024-01-11T06:37:48.002232295Z",
     "start_time": "2024-01-11T06:37:47.528902294Z"
    }
   },
   "id": "b2fc6610b800a0cf"
  },
  {
   "cell_type": "code",
   "execution_count": 8,
   "outputs": [
    {
     "data": {
      "text/plain": "<Figure size 432x288 with 1 Axes>",
      "image/png": "[encoded data removed]"
     },
     "metadata": {
      "needs_background": "light"
     },
     "output_type": "display_data"
    }
   ],
   "source": [
    "# Create a bar plot\n",
    "plt.bar(newscatcher_counts_by_topic[\"topic\"],height=newscatcher_counts_by_topic[\"title\"])\n",
    "plt.xticks(rotation=45)\n",
    "plt.show()\n"
   ],
   "metadata": {
    "collapsed": false,
    "ExecuteTime": {
     "end_time": "2024-01-11T06:37:49.540147351Z",
     "start_time": "2024-01-11T06:37:49.154428106Z"
    }
   },
   "id": "67e684df6b82ef29"
  },
  {
   "cell_type": "code",
   "execution_count": 9,
   "outputs": [
    {
     "data": {
      "text/plain": "           topic  title\n0       BUSINESS  15000\n1  ENTERTAINMENT  15000\n2         HEALTH  15000\n3         NATION  15000\n4        SCIENCE   3774\n5         SPORTS  15000\n6     TECHNOLOGY  15000\n7          WORLD  15000",
      "text/html": "<div>\n<style scoped>\n    .dataframe tbody tr th:only-of-type {\n        vertical-align: middle;\n    }\n\n    .dataframe tbody tr th {\n        vertical-align: top;\n    }\n\n    .dataframe thead th {\n        text-align: right;\n    }\n</style>\n<table border=\"1\" class=\"dataframe\">\n  <thead>\n    <tr style=\"text-align: right;\">\n      <th></th>\n      <th>topic</th>\n      <th>title</th>\n    </tr>\n  </thead>\n  <tbody>\n    <tr>\n      <th>0</th>\n      <td>BUSINESS</td>\n      <td>15000</td>\n    </tr>\n    <tr>\n      <th>1</th>\n      <td>ENTERTAINMENT</td>\n      <td>15000</td>\n    </tr>\n    <tr>\n      <th>2</th>\n      <td>HEALTH</td>\n      <td>15000</td>\n    </tr>\n    <tr>\n      <th>3</th>\n      <td>NATION</td>\n      <td>15000</td>\n    </tr>\n    <tr>\n      <th>4</th>\n      <td>SCIENCE</td>\n      <td>3774</td>\n    </tr>\n    <tr>\n      <th>5</th>\n      <td>SPORTS</td>\n      <td>15000</td>\n    </tr>\n    <tr>\n      <th>6</th>\n      <td>TECHNOLOGY</td>\n      <td>15000</td>\n    </tr>\n    <tr>\n      <th>7</th>\n      <td>WORLD</td>\n      <td>15000</td>\n    </tr>\n  </tbody>\n</table>\n</div>"
     },
     "metadata": {},
     "output_type": "display_data"
    }
   ],
   "source": [
    "display(newscatcher_counts_by_topic)\n"
   ],
   "metadata": {
    "collapsed": false,
    "ExecuteTime": {
     "end_time": "2024-01-11T06:38:08.615764459Z",
     "start_time": "2024-01-11T06:38:08.592087158Z"
    }
   },
   "id": "1baba6d89603fea4"
  },
  {
   "cell_type": "code",
   "execution_count": null,
   "outputs": [],
   "source": [],
   "metadata": {
    "collapsed": false
   },
   "id": "733e9c189a6ce155"
  }
 ],
 "metadata": {
  "kernelspec": {
   "display_name": "Python 3",
   "language": "python",
   "name": "python3"
  },
  "language_info": {
   "codemirror_mode": {
    "name": "ipython",
    "version": 2
   },
   "file_extension": ".py",
   "mimetype": "text/x-python",
   "name": "python",
   "nbconvert_exporter": "python",
   "pygments_lexer": "ipython2",
   "version": "2.7.6"
  }
 },
 "nbformat": 4,
 "nbformat_minor": 5
}
