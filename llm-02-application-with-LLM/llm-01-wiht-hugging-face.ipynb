{
 "cells": [
  {
   "cell_type": "code",
   "execution_count": 5,
   "outputs": [],
   "source": [
    "from datasets import load_dataset\n",
    "from transformers import pipeline\n"
   ],
   "metadata": {
    "collapsed": false,
    "ExecuteTime": {
     "end_time": "2024-01-11T07:48:21.322032149Z",
     "start_time": "2024-01-11T07:48:21.310144893Z"
    }
   },
   "id": "bf70c38dd903ede1"
  },
  {
   "cell_type": "code",
   "execution_count": 11,
   "outputs": [
    {
     "name": "stdout",
     "output_type": "stream",
     "text": [
      "File '../datasets/labelled_newscatcher_dataset.csv' already exists. Handling accordingly.\n"
     ]
    }
   ],
   "source": [
    "\n",
    "csv_location = \"../datasets/labelled_newscatcher_dataset.csv\"\n",
    "\n",
    "# Load the XSum dataset using a custom cache directory\n",
    "xsum_dataset = load_dataset(\"xsum\", version=\"1.2.0\", cache_dir=csv_location,trust_remote_code=True)\n",
    "\n",
    "# Print information about the loaded dataset\n",
    "print(xsum_dataset)\n"
   ],
   "metadata": {
    "collapsed": false,
    "ExecuteTime": {
     "end_time": "2024-01-11T07:50:08.260212756Z",
     "start_time": "2024-01-11T07:50:08.210140319Z"
    }
   },
   "id": "2b4628b7f57c3c53"
  },
  {
   "cell_type": "code",
   "execution_count": 13,
   "outputs": [
    {
     "data": {
      "text/plain": "Downloading data:   0%|          | 0.00/255M [00:00<?, ?B/s]",
      "application/vnd.jupyter.widget-view+json": {
       "version_major": 2,
       "version_minor": 0,
       "model_id": "d02f55b192fa4f46b53b9db3f9063872"
      }
     },
     "metadata": {},
     "output_type": "display_data"
    },
    {
     "data": {
      "text/plain": "Downloading data:   0%|          | 0.00/1.00M [00:00<?, ?B/s]",
      "application/vnd.jupyter.widget-view+json": {
       "version_major": 2,
       "version_minor": 0,
       "model_id": "d72765a625fb4fc4afc9017c4323363f"
      }
     },
     "metadata": {},
     "output_type": "display_data"
    },
    {
     "data": {
      "text/plain": "Generating train split:   0%|          | 0/204045 [00:00<?, ? examples/s]",
      "application/vnd.jupyter.widget-view+json": {
       "version_major": 2,
       "version_minor": 0,
       "model_id": "e5b7c7b8329a448c854a32d85a988a5b"
      }
     },
     "metadata": {},
     "output_type": "display_data"
    },
    {
     "data": {
      "text/plain": "Generating validation split:   0%|          | 0/11332 [00:00<?, ? examples/s]",
      "application/vnd.jupyter.widget-view+json": {
       "version_major": 2,
       "version_minor": 0,
       "model_id": "eeace079ce72493aaa79eb428469f355"
      }
     },
     "metadata": {},
     "output_type": "display_data"
    },
    {
     "data": {
      "text/plain": "Generating test split:   0%|          | 0/11334 [00:00<?, ? examples/s]",
      "application/vnd.jupyter.widget-view+json": {
       "version_major": 2,
       "version_minor": 0,
       "model_id": "b7180b9963dd41dba49d500b6bef5fb0"
      }
     },
     "metadata": {},
     "output_type": "display_data"
    }
   ],
   "source": [
    "!jupyter nbextension enable --py widgetsnbextension\n"
   ],
   "metadata": {
    "collapsed": false,
    "ExecuteTime": {
     "end_time": "2024-01-11T07:53:45.964529777Z",
     "start_time": "2024-01-11T07:50:50.561217305Z"
    }
   },
   "id": "83bb518881f45f4a"
  },
  {
   "cell_type": "code",
   "execution_count": null,
   "outputs": [],
   "source": [],
   "metadata": {
    "collapsed": false,
    "ExecuteTime": {
     "start_time": "2024-01-11T07:48:10.271640697Z"
    }
   },
   "id": "9c3b889129835c2a"
  }
 ],
 "metadata": {
  "kernelspec": {
   "display_name": "Python 3",
   "language": "python",
   "name": "python3"
  },
  "language_info": {
   "codemirror_mode": {
    "name": "ipython",
    "version": 2
   },
   "file_extension": ".py",
   "mimetype": "text/x-python",
   "name": "python",
   "nbconvert_exporter": "python",
   "pygments_lexer": "ipython2",
   "version": "2.7.6"
  }
 },
 "nbformat": 4,
 "nbformat_minor": 5
}
